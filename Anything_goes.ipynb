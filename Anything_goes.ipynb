{
  "cells": [
    {
      "cell_type": "code",
      "execution_count": 6,
      "metadata": {
        "colab": {
          "base_uri": "https://localhost:8080/"
        },
        "id": "wUscRjZDbo1k",
        "outputId": "48dda05d-08f3-4e56-9b2a-928693dca336"
      },
      "outputs": [
        {
          "output_type": "stream",
          "name": "stdout",
          "text": [
            "Drive already mounted at /content/drive; to attempt to forcibly remount, call drive.mount(\"/content/drive\", force_remount=True).\n",
            "/content/drive/MyDrive/SLU Semesters/SLU 3rd Semester/NLP/Second Competition/final\n",
            "Anything_goes.ipynb  justtest.ipynb  test.tsv  train.tsv  \u001b[0m\u001b[01;34muntitled_project\u001b[0m/\n"
          ]
        }
      ],
      "source": [
        "from google.colab import drive\n",
        "# Mount google drive\n",
        "drive.mount('/content/drive')\n",
        "%cd /content/drive/MyDrive/SLU Semesters/SLU 3rd Semester/NLP/Second Competition/final/\n",
        "%ls"
      ]
    },
    {
      "cell_type": "code",
      "execution_count": 7,
      "metadata": {
        "colab": {
          "base_uri": "https://localhost:8080/",
          "height": 206
        },
        "id": "yTCe8by_bwwG",
        "outputId": "6260f8db-6566-405a-fdd2-d54db0c90dc0"
      },
      "outputs": [
        {
          "output_type": "execute_result",
          "data": {
            "text/plain": [
              "    word tag\n",
              "0  ansin   N\n",
              "1      )   N\n",
              "2     tá   N\n",
              "3   níos   N\n",
              "4     lú   N"
            ],
            "text/html": [
              "\n",
              "  <div id=\"df-4c14c166-3aeb-4ba3-8ad1-32f141fbec48\">\n",
              "    <div class=\"colab-df-container\">\n",
              "      <div>\n",
              "<style scoped>\n",
              "    .dataframe tbody tr th:only-of-type {\n",
              "        vertical-align: middle;\n",
              "    }\n",
              "\n",
              "    .dataframe tbody tr th {\n",
              "        vertical-align: top;\n",
              "    }\n",
              "\n",
              "    .dataframe thead th {\n",
              "        text-align: right;\n",
              "    }\n",
              "</style>\n",
              "<table border=\"1\" class=\"dataframe\">\n",
              "  <thead>\n",
              "    <tr style=\"text-align: right;\">\n",
              "      <th></th>\n",
              "      <th>word</th>\n",
              "      <th>tag</th>\n",
              "    </tr>\n",
              "  </thead>\n",
              "  <tbody>\n",
              "    <tr>\n",
              "      <th>0</th>\n",
              "      <td>ansin</td>\n",
              "      <td>N</td>\n",
              "    </tr>\n",
              "    <tr>\n",
              "      <th>1</th>\n",
              "      <td>)</td>\n",
              "      <td>N</td>\n",
              "    </tr>\n",
              "    <tr>\n",
              "      <th>2</th>\n",
              "      <td>tá</td>\n",
              "      <td>N</td>\n",
              "    </tr>\n",
              "    <tr>\n",
              "      <th>3</th>\n",
              "      <td>níos</td>\n",
              "      <td>N</td>\n",
              "    </tr>\n",
              "    <tr>\n",
              "      <th>4</th>\n",
              "      <td>lú</td>\n",
              "      <td>N</td>\n",
              "    </tr>\n",
              "  </tbody>\n",
              "</table>\n",
              "</div>\n",
              "      <button class=\"colab-df-convert\" onclick=\"convertToInteractive('df-4c14c166-3aeb-4ba3-8ad1-32f141fbec48')\"\n",
              "              title=\"Convert this dataframe to an interactive table.\"\n",
              "              style=\"display:none;\">\n",
              "        \n",
              "  <svg xmlns=\"http://www.w3.org/2000/svg\" height=\"24px\"viewBox=\"0 0 24 24\"\n",
              "       width=\"24px\">\n",
              "    <path d=\"M0 0h24v24H0V0z\" fill=\"none\"/>\n",
              "    <path d=\"M18.56 5.44l.94 2.06.94-2.06 2.06-.94-2.06-.94-.94-2.06-.94 2.06-2.06.94zm-11 1L8.5 8.5l.94-2.06 2.06-.94-2.06-.94L8.5 2.5l-.94 2.06-2.06.94zm10 10l.94 2.06.94-2.06 2.06-.94-2.06-.94-.94-2.06-.94 2.06-2.06.94z\"/><path d=\"M17.41 7.96l-1.37-1.37c-.4-.4-.92-.59-1.43-.59-.52 0-1.04.2-1.43.59L10.3 9.45l-7.72 7.72c-.78.78-.78 2.05 0 2.83L4 21.41c.39.39.9.59 1.41.59.51 0 1.02-.2 1.41-.59l7.78-7.78 2.81-2.81c.8-.78.8-2.07 0-2.86zM5.41 20L4 18.59l7.72-7.72 1.47 1.35L5.41 20z\"/>\n",
              "  </svg>\n",
              "      </button>\n",
              "      \n",
              "  <style>\n",
              "    .colab-df-container {\n",
              "      display:flex;\n",
              "      flex-wrap:wrap;\n",
              "      gap: 12px;\n",
              "    }\n",
              "\n",
              "    .colab-df-convert {\n",
              "      background-color: #E8F0FE;\n",
              "      border: none;\n",
              "      border-radius: 50%;\n",
              "      cursor: pointer;\n",
              "      display: none;\n",
              "      fill: #1967D2;\n",
              "      height: 32px;\n",
              "      padding: 0 0 0 0;\n",
              "      width: 32px;\n",
              "    }\n",
              "\n",
              "    .colab-df-convert:hover {\n",
              "      background-color: #E2EBFA;\n",
              "      box-shadow: 0px 1px 2px rgba(60, 64, 67, 0.3), 0px 1px 3px 1px rgba(60, 64, 67, 0.15);\n",
              "      fill: #174EA6;\n",
              "    }\n",
              "\n",
              "    [theme=dark] .colab-df-convert {\n",
              "      background-color: #3B4455;\n",
              "      fill: #D2E3FC;\n",
              "    }\n",
              "\n",
              "    [theme=dark] .colab-df-convert:hover {\n",
              "      background-color: #434B5C;\n",
              "      box-shadow: 0px 1px 3px 1px rgba(0, 0, 0, 0.15);\n",
              "      filter: drop-shadow(0px 1px 2px rgba(0, 0, 0, 0.3));\n",
              "      fill: #FFFFFF;\n",
              "    }\n",
              "  </style>\n",
              "\n",
              "      <script>\n",
              "        const buttonEl =\n",
              "          document.querySelector('#df-4c14c166-3aeb-4ba3-8ad1-32f141fbec48 button.colab-df-convert');\n",
              "        buttonEl.style.display =\n",
              "          google.colab.kernel.accessAllowed ? 'block' : 'none';\n",
              "\n",
              "        async function convertToInteractive(key) {\n",
              "          const element = document.querySelector('#df-4c14c166-3aeb-4ba3-8ad1-32f141fbec48');\n",
              "          const dataTable =\n",
              "            await google.colab.kernel.invokeFunction('convertToInteractive',\n",
              "                                                     [key], {});\n",
              "          if (!dataTable) return;\n",
              "\n",
              "          const docLinkHtml = 'Like what you see? Visit the ' +\n",
              "            '<a target=\"_blank\" href=https://colab.research.google.com/notebooks/data_table.ipynb>data table notebook</a>'\n",
              "            + ' to learn more about interactive tables.';\n",
              "          element.innerHTML = '';\n",
              "          dataTable['output_type'] = 'display_data';\n",
              "          await google.colab.output.renderOutput(dataTable, element);\n",
              "          const docLink = document.createElement('div');\n",
              "          docLink.innerHTML = docLinkHtml;\n",
              "          element.appendChild(docLink);\n",
              "        }\n",
              "      </script>\n",
              "    </div>\n",
              "  </div>\n",
              "  "
            ]
          },
          "metadata": {},
          "execution_count": 7
        }
      ],
      "source": [
        "import pandas as pd\n",
        "# Load dataset file\n",
        "df_total = pd.read_csv(\"train.tsv\", sep='\\t', names=[\"word\", \"tag\"])\n",
        "df_total.head()"
      ]
    },
    {
      "cell_type": "code",
      "source": [
        "import csv\n",
        "\n",
        "df_test = pd.read_csv(\"test.tsv\", sep='\\t', names=[\"word\", \"tag\"], quoting=csv.QUOTE_NONE)\n",
        "final_test = [[(df_test.loc[i,'word'], df_test.loc[i,'tag'])] for i in range(len(df_test))]"
      ],
      "metadata": {
        "id": "SqC4e8temX4D"
      },
      "execution_count": 26,
      "outputs": []
    },
    {
      "cell_type": "code",
      "execution_count": null,
      "metadata": {
        "id": "sOHOdisPbylD"
      },
      "outputs": [],
      "source": [
        "# df2 = df_total[:15000]\n",
        "df2 = df_total.copy()\n",
        "df2.describe()\n",
        "print((df2['tag'].value_counts()))\n",
        "lbl = df2['tag'].value_counts().max()\n",
        "max_label = df2['tag'][lbl]\n",
        "max_label"
      ]
    },
    {
      "cell_type": "code",
      "execution_count": null,
      "metadata": {
        "id": "vffnjryhdXLc"
      },
      "outputs": [],
      "source": [
        "# converting input shape for tagger\n",
        "df3 = [[(df2.loc[i,'word'], df2.loc[i,'tag'])] for i in range(len(df2))]"
      ]
    },
    {
      "cell_type": "code",
      "execution_count": null,
      "metadata": {
        "id": "qIubdvydeLKV"
      },
      "outputs": [],
      "source": [
        "# creating train and test datasets - source: https://colab.research.google.com/drive/1pAuj6j5UAzBrGHPmgP5IufT35O9E6lvt?usp=sharing\n",
        "split = int(len(df3)*0.9)\n",
        "train = df3[:split]\n",
        "test = df3[split:]\n",
        "len(train)"
      ]
    },
    {
      "cell_type": "markdown",
      "metadata": {
        "id": "3UflkEvQ_O5x"
      },
      "source": [
        "**Unigram tagger**"
      ]
    },
    {
      "cell_type": "code",
      "execution_count": null,
      "metadata": {
        "id": "Gw5g8u4OdSE_"
      },
      "outputs": [],
      "source": [
        "# unigram tagger \n",
        "import nltk\n",
        "unigram_tagger = nltk.UnigramTagger(train)\n",
        "print(\"Unigram tagger accuracy without backoff tagger is: \", unigram_tagger.accuracy(test))"
      ]
    },
    {
      "cell_type": "code",
      "execution_count": null,
      "metadata": {
        "id": "p2bbyuO-cri0"
      },
      "outputs": [],
      "source": [
        "from nltk.tag import SequentialBackoffTagger\n",
        "from nltk.tag import DefaultTagger \n",
        "from nltk.tag import UnigramTagger \n",
        "\n",
        "back_tagger = DefaultTagger(max_label)\n",
        "unigram_tagger2 = UnigramTagger(train, backoff = back_tagger)\n",
        "print(\"Unigram tagger accuracy with backoff tagger is: \", unigram_tagger2.accuracy(test))"
      ]
    },
    {
      "cell_type": "code",
      "source": [
        "# accuracy on final test set\n",
        "print(\"Unigram tagger accuracy with backoff tagger is: \", unigram_tagger2.accuracy(final_test))"
      ],
      "metadata": {
        "id": "a86SHvbIm9oI"
      },
      "execution_count": null,
      "outputs": []
    },
    {
      "cell_type": "markdown",
      "metadata": {
        "id": "y3q7YVTtObTF"
      },
      "source": [
        "**RNN**"
      ]
    },
    {
      "cell_type": "code",
      "execution_count": null,
      "metadata": {
        "id": "vGx_KnyxObxU"
      },
      "outputs": [],
      "source": [
        "df_rnn = df_total[:10000]\n",
        "df_rnn2 = [[(df_rnn.loc[i,'word'], df_rnn.loc[i,'tag'])] for i in range(len(df_rnn))]\n",
        "\n",
        "# creating vocab and tags lists from df for word2index and tag2index - source: https://colab.research.google.com/drive/1D8aeXQVb_aVcfr7thA7UYlmD0Tq_XjPU?usp=sharing\n",
        "vocab = list(df_rnn['word'])\n",
        "vocab.append('<PAD>')\n",
        "\n",
        "tags = list(df_rnn['tag'])\n",
        "tags.append('<PAD>')\n",
        "\n",
        "print(len(vocab))\n",
        "print(len(tags))"
      ]
    },
    {
      "cell_type": "code",
      "execution_count": 9,
      "metadata": {
        "id": "OIwqDGP7NmP-"
      },
      "outputs": [],
      "source": [
        "from tensorflow.keras.preprocessing.sequence import pad_sequences\n",
        "# source: https://colab.research.google.com/drive/1D8aeXQVb_aVcfr7thA7UYlmD0Tq_XjPU?usp=sharing\n",
        "max_len = 5\n",
        "word2index = {w: i for i, w in enumerate(vocab)}\n",
        "tag2index = {t: i for i, t in enumerate(tags)}\n",
        "onehot = [[word2index[w[0]] for w in s] for s in df_rnn2]\n",
        "X = pad_sequences(maxlen=max_len, sequences=onehot, padding=\"post\", value=len(vocab)-1)"
      ]
    },
    {
      "cell_type": "code",
      "source": [
        "print(len(onehot))\n",
        "print(type(onehot))\n",
        "print(X.shape)"
      ],
      "metadata": {
        "colab": {
          "base_uri": "https://localhost:8080/"
        },
        "id": "71EWNLByshAD",
        "outputId": "c2ee64d8-2f8c-4579-eaa6-c28e783283af"
      },
      "execution_count": 10,
      "outputs": [
        {
          "output_type": "stream",
          "name": "stdout",
          "text": [
            "10000\n",
            "<class 'list'>\n",
            "(10000, 5)\n"
          ]
        }
      ]
    },
    {
      "cell_type": "code",
      "execution_count": 11,
      "metadata": {
        "colab": {
          "base_uri": "https://localhost:8080/"
        },
        "id": "xRbGFM-EAk_D",
        "outputId": "dd6c5ab2-70b9-4202-f278-4230c24a96e3"
      },
      "outputs": [
        {
          "output_type": "stream",
          "name": "stdout",
          "text": [
            "10000\n",
            "<class 'numpy.ndarray'>\n",
            "(10000, 5)\n"
          ]
        },
        {
          "output_type": "execute_result",
          "data": {
            "text/plain": [
              "array([ 9946, 10000, 10000, 10000, 10000], dtype=int32)"
            ]
          },
          "metadata": {},
          "execution_count": 11
        }
      ],
      "source": [
        "print(len(X))\n",
        "print(type(X))\n",
        "print(X.shape)\n",
        "X[1]"
      ]
    },
    {
      "cell_type": "code",
      "execution_count": 12,
      "metadata": {
        "id": "wZzucfblOVrv"
      },
      "outputs": [],
      "source": [
        "from tensorflow.keras.utils import to_categorical\n",
        "\n",
        "onehot_y = [[tag2index[w[1]] for w in s] for s in df_rnn2]\n",
        "y = pad_sequences(maxlen=max_len, sequences=onehot_y, padding=\"post\", value=tag2index[\"<PAD>\"])\n",
        "y = to_categorical(y, num_classes=len(tags))"
      ]
    },
    {
      "cell_type": "code",
      "source": [
        "print(len(onehot_y))\n",
        "print(type(onehot_y))\n",
        "onehot_y[1]"
      ],
      "metadata": {
        "colab": {
          "base_uri": "https://localhost:8080/"
        },
        "id": "Rsw_rUs1sHQe",
        "outputId": "4d3d6fc9-2f87-4b12-b067-a80e108fe385"
      },
      "execution_count": 13,
      "outputs": [
        {
          "output_type": "stream",
          "name": "stdout",
          "text": [
            "10000\n",
            "<class 'list'>\n"
          ]
        },
        {
          "output_type": "execute_result",
          "data": {
            "text/plain": [
              "[9999]"
            ]
          },
          "metadata": {},
          "execution_count": 13
        }
      ]
    },
    {
      "cell_type": "code",
      "execution_count": 14,
      "metadata": {
        "colab": {
          "base_uri": "https://localhost:8080/"
        },
        "id": "Gx7nsB0WDtHc",
        "outputId": "2c4a47d1-bdf3-480b-e1c8-42cbbfa00041"
      },
      "outputs": [
        {
          "output_type": "stream",
          "name": "stdout",
          "text": [
            "10000\n",
            "<class 'numpy.ndarray'>\n",
            "(10000, 5, 10001)\n"
          ]
        },
        {
          "output_type": "execute_result",
          "data": {
            "text/plain": [
              "array([[0., 0., 0., ..., 0., 1., 0.],\n",
              "       [0., 0., 0., ..., 0., 0., 1.],\n",
              "       [0., 0., 0., ..., 0., 0., 1.],\n",
              "       [0., 0., 0., ..., 0., 0., 1.],\n",
              "       [0., 0., 0., ..., 0., 0., 1.]], dtype=float32)"
            ]
          },
          "metadata": {},
          "execution_count": 14
        }
      ],
      "source": [
        "print(len(y))\n",
        "print(type(y))\n",
        "print(y.shape)\n",
        "y[1]"
      ]
    },
    {
      "cell_type": "code",
      "execution_count": 15,
      "metadata": {
        "colab": {
          "base_uri": "https://localhost:8080/"
        },
        "id": "dRhYS54USOVX",
        "outputId": "2ad1310f-8a82-44cc-99fe-d0ed314f7838"
      },
      "outputs": [
        {
          "output_type": "stream",
          "name": "stdout",
          "text": [
            "9000\n",
            "1000\n",
            "9000\n",
            "1000\n",
            "(9000, 5)\n",
            "(1000, 5)\n",
            "(9000, 5, 10001)\n"
          ]
        }
      ],
      "source": [
        "# creaint train and test sets\n",
        "from sklearn.model_selection import train_test_split\n",
        "X_train, X_test, y_train, y_test = train_test_split(X, y, test_size=0.1)\n",
        "\n",
        "print(len(X_train))\n",
        "print(len(X_test))\n",
        "print(len(y_train))\n",
        "print(len(y_test))\n",
        "print(X_train.shape)\n",
        "print(X_test.shape)\n",
        "print(y_train.shape)"
      ]
    },
    {
      "cell_type": "code",
      "execution_count": 16,
      "metadata": {
        "id": "LtqJfAbXCoh2"
      },
      "outputs": [],
      "source": [
        "%pip install -q -U keras-tuner\n",
        "import keras_tuner as kt"
      ]
    },
    {
      "cell_type": "code",
      "execution_count": 17,
      "metadata": {
        "id": "bQUQQPv3GcbZ"
      },
      "outputs": [],
      "source": [
        "import tensorflow as tf\n",
        "from tensorflow import keras\n",
        "from tensorflow.keras.layers import LSTM, Embedding, Dense, TimeDistributed, Dropout, Bidirectional \n",
        "\n",
        "# source: Tensorflow tutorials https://www.tensorflow.org/tutorials/keras/keras_tuner\n",
        "\n",
        "def model_builder(hp):\n",
        "  model = keras.Sequential()\n",
        "\n",
        "  # Tune the number of units in the first Dense layer - Choose an optimal value between 32-512\n",
        "  hp_units = hp.Int('units', min_value=32, max_value=512, step=32)\n",
        "  model.add(Embedding(input_dim=len(vocab), output_dim=50, input_length=max_len))\n",
        "  model.add(Bidirectional(LSTM(units=hp_units, return_sequences=True, recurrent_dropout=0.1)))\n",
        "  model.add(TimeDistributed(Dense(len(tags), activation=\"softmax\")))\n",
        "\n",
        "\n",
        "  # Tune the learning rate for the optimizer - Choose an optimal value from 0.01, 0.001, or 0.0001\n",
        "  hp_learning_rate = hp.Choice('learning_rate', values=[1e-2, 1e-3, 1e-4]) \n",
        "  model.compile(optimizer=\"adam\", loss=\"categorical_crossentropy\", metrics=[\"accuracy\"])\n",
        "  # model.compile(optimizer=\"adam\", loss = tf.keras.losses.SparseCategoricalCrossentropy(from_logits=True), metrics=[\"accuracy\"])\n",
        "\n",
        "  return model"
      ]
    },
    {
      "cell_type": "code",
      "execution_count": 18,
      "metadata": {
        "id": "KxT0yxwtC6Tc"
      },
      "outputs": [],
      "source": [
        "tuner = kt.Hyperband(model_builder,\n",
        "                     objective='val_accuracy',\n",
        "                     max_epochs=3,\n",
        "                     factor=3)\n",
        "stop_early = tf.keras.callbacks.EarlyStopping(monitor='val_loss', patience=5)"
      ]
    },
    {
      "cell_type": "code",
      "execution_count": 19,
      "metadata": {
        "id": "7eGxoUCeGhvx"
      },
      "outputs": [],
      "source": [
        "stop_early = tf.keras.callbacks.EarlyStopping(monitor='val_loss', patience=5)"
      ]
    },
    {
      "cell_type": "code",
      "execution_count": 20,
      "metadata": {
        "id": "U8H7x_JxGkop",
        "colab": {
          "base_uri": "https://localhost:8080/"
        },
        "outputId": "4c715180-8921-4531-9055-cb043799e877"
      },
      "outputs": [
        {
          "output_type": "stream",
          "name": "stdout",
          "text": [
            "The optimal number of units in the first densely-connected layer is:  32  and the optimal learning rate for the optimizer is  0.0001\n"
          ]
        }
      ],
      "source": [
        "tuner.search(X_train, y_train, epochs= 3, validation_split=0.2, callbacks=[stop_early])\n",
        "\n",
        "# Get the optimal hyperparameters\n",
        "best_hps=tuner.get_best_hyperparameters(num_trials=1)[0]\n",
        "\n",
        "print(\"The optimal number of units in the first densely-connected layer is: \", best_hps.get('units') , \" and the optimal learning rate for the optimizer is \"\n",
        ", best_hps.get('learning_rate'))"
      ]
    },
    {
      "cell_type": "code",
      "execution_count": 21,
      "metadata": {
        "id": "QlNo-1XiJ33K",
        "colab": {
          "base_uri": "https://localhost:8080/"
        },
        "outputId": "7a21ae07-908c-4c15-f40a-fe5ce0148558"
      },
      "outputs": [
        {
          "output_type": "stream",
          "name": "stdout",
          "text": [
            "Model: \"sequential_1\"\n",
            "_________________________________________________________________\n",
            " Layer (type)                Output Shape              Param #   \n",
            "=================================================================\n",
            " embedding_1 (Embedding)     (None, 5, 50)             500050    \n",
            "                                                                 \n",
            " bidirectional_1 (Bidirectio  (None, 5, 64)            21248     \n",
            " nal)                                                            \n",
            "                                                                 \n",
            " time_distributed_1 (TimeDis  (None, 5, 10001)         650065    \n",
            " tributed)                                                       \n",
            "                                                                 \n",
            "=================================================================\n",
            "Total params: 1,171,363\n",
            "Trainable params: 1,171,363\n",
            "Non-trainable params: 0\n",
            "_________________________________________________________________\n"
          ]
        }
      ],
      "source": [
        "# Build the model with the optimal hyperparameters and train it on the data for number of epochs\n",
        "model = tuner.hypermodel.build(best_hps)\n",
        "model.summary()"
      ]
    },
    {
      "cell_type": "code",
      "source": [
        "tf.keras.utils.plot_model"
      ],
      "metadata": {
        "colab": {
          "base_uri": "https://localhost:8080/"
        },
        "id": "DVfvyOejuuGc",
        "outputId": "f9802b98-e89f-4d53-ebd6-c32f707f902b"
      },
      "execution_count": 22,
      "outputs": [
        {
          "output_type": "execute_result",
          "data": {
            "text/plain": [
              "<function keras.utils.vis_utils.plot_model(model, to_file='model.png', show_shapes=False, show_dtype=False, show_layer_names=True, rankdir='TB', expand_nested=False, dpi=96, layer_range=None, show_layer_activations=False)>"
            ]
          },
          "metadata": {},
          "execution_count": 22
        }
      ]
    },
    {
      "cell_type": "code",
      "source": [
        "# x_train.reshape\n",
        "history = model.fit(X_train, y_train, epochs= 5, validation_split=0.2)\n",
        "\n",
        "val_acc_per_epoch = history.history['val_accuracy']\n",
        "best_epoch = val_acc_per_epoch.index(max(val_acc_per_epoch)) + 1\n",
        "print('Best epoch: %d' % (best_epoch,))"
      ],
      "metadata": {
        "id": "tgAyRjDmusEZ",
        "colab": {
          "base_uri": "https://localhost:8080/"
        },
        "outputId": "b7f7d5f1-3b78-4428-d10e-e2cfce0d4bce"
      },
      "execution_count": 23,
      "outputs": [
        {
          "output_type": "stream",
          "name": "stdout",
          "text": [
            "Epoch 1/5\n",
            "225/225 [==============================] - 37s 110ms/step - loss: 2.6421 - accuracy: 0.8716 - val_loss: 0.2061 - val_accuracy: 0.9709\n",
            "Epoch 2/5\n",
            "225/225 [==============================] - 20s 90ms/step - loss: 0.1550 - accuracy: 0.9728 - val_loss: 0.1352 - val_accuracy: 0.9709\n",
            "Epoch 3/5\n",
            "225/225 [==============================] - 20s 91ms/step - loss: 0.1206 - accuracy: 0.9728 - val_loss: 0.1197 - val_accuracy: 0.9709\n",
            "Epoch 4/5\n",
            "225/225 [==============================] - 22s 99ms/step - loss: 0.1110 - accuracy: 0.9728 - val_loss: 0.1123 - val_accuracy: 0.9709\n",
            "Epoch 5/5\n",
            "225/225 [==============================] - 26s 115ms/step - loss: 0.1014 - accuracy: 0.9728 - val_loss: 0.1010 - val_accuracy: 0.9709\n",
            "Best epoch: 1\n"
          ]
        }
      ]
    },
    {
      "cell_type": "code",
      "execution_count": 24,
      "metadata": {
        "id": "P6QyLmX6LG1t",
        "colab": {
          "base_uri": "https://localhost:8080/"
        },
        "outputId": "148bc71e-0795-4aac-aa58-a755a64a8180"
      },
      "outputs": [
        {
          "output_type": "stream",
          "name": "stdout",
          "text": [
            "225/225 [==============================] - 24s 92ms/step - loss: 2.6987 - accuracy: 0.8657 - val_loss: 0.2060 - val_accuracy: 0.9709\n"
          ]
        },
        {
          "output_type": "execute_result",
          "data": {
            "text/plain": [
              "<keras.callbacks.History at 0x7f75027c17d0>"
            ]
          },
          "metadata": {},
          "execution_count": 24
        }
      ],
      "source": [
        "hypermodel = tuner.hypermodel.build(best_hps)\n",
        "# Retrain the model\n",
        "hypermodel.fit(X_train, y_train, epochs=best_epoch, validation_split=0.2)"
      ]
    },
    {
      "cell_type": "code",
      "execution_count": 25,
      "metadata": {
        "id": "XX6gN0IQLG1t",
        "colab": {
          "base_uri": "https://localhost:8080/"
        },
        "outputId": "15071a7c-43f2-4f2d-e4d6-1ce115e03209"
      },
      "outputs": [
        {
          "output_type": "stream",
          "name": "stdout",
          "text": [
            "32/32 [==============================] - 1s 31ms/step - loss: 0.1915 - accuracy: 0.9770\n",
            "[test loss, test accuracy]: [0.19145703315734863, 0.9769999980926514]\n"
          ]
        }
      ],
      "source": [
        "eval_result = hypermodel.evaluate(X_test, y_test)\n",
        "print(\"[test loss, test accuracy]:\", eval_result)"
      ]
    },
    {
      "cell_type": "code",
      "source": [
        "# # creating vocab and tags lists from final test\n",
        "# vocab_test = list(df_test['word'])\n",
        "# vocab_test.append('<PAD>')\n",
        "\n",
        "# tags_test = list(df_test['tag'])\n",
        "# tags_test.append('<PAD>')\n",
        "\n",
        "# print(len(vocab_test))\n",
        "# print(len(tags_test))"
      ],
      "metadata": {
        "colab": {
          "base_uri": "https://localhost:8080/"
        },
        "id": "PeYyr2y1ohcW",
        "outputId": "4ec0a2c8-b990-4eb3-c9bf-087613a090a8"
      },
      "execution_count": 29,
      "outputs": [
        {
          "output_type": "stream",
          "name": "stdout",
          "text": [
            "1000001\n",
            "1000001\n"
          ]
        }
      ]
    },
    {
      "cell_type": "code",
      "source": [
        "# df_test2 = [[(df_test.loc[i,'word'], df_test.loc[i,'tag'])] for i in range(len(df_test))]"
      ],
      "metadata": {
        "id": "vPvhkFtmqnzW"
      },
      "execution_count": 32,
      "outputs": []
    },
    {
      "cell_type": "code",
      "source": [
        "# from tensorflow.keras.preprocessing.sequence import pad_sequences\n",
        "# # source: https://colab.research.google.com/drive/1D8aeXQVb_aVcfr7thA7UYlmD0Tq_XjPU?usp=sharing\n",
        "# max_len = 5\n",
        "# word2index_test = {w: i for i, w in enumerate(vocab_test)}\n",
        "# tag2index_test = {t: i for i, t in enumerate(tags_test)}\n",
        "# onehot_test = [[word2index_test[w[0]] for w in s] for s in df_test2]\n",
        "# X_f_test = pad_sequences(maxlen=max_len, sequences=onehot_test, padding=\"post\", value=len(vocab)-1)"
      ],
      "metadata": {
        "id": "HhMcXE_vptP2"
      },
      "execution_count": 33,
      "outputs": []
    },
    {
      "cell_type": "code",
      "source": [
        "# from tensorflow.keras.utils import to_categorical\n",
        "\n",
        "# onehot_y_test = [[tag2index_test[w[1]] for w in s] for s in df_test2]\n",
        "# y_f_test = pad_sequences(maxlen=max_len, sequences=onehot_y_test, padding=\"post\", value=tag2index_test[\"<PAD>\"])\n",
        "# y_f_test = to_categorical(y_f_test, num_classes=len(tags_test))"
      ],
      "metadata": {
        "id": "OfoPn6yIp-sR"
      },
      "execution_count": null,
      "outputs": []
    },
    {
      "cell_type": "code",
      "source": [
        "# # accuracy on final test set\n",
        "# eval_result_final_test = hypermodel.evaluate(X_f_test, y_f_test)\n",
        "# print(\"[test loss, test accuracy]:\", eval_result_final_test)"
      ],
      "metadata": {
        "id": "WbTFx56zrgzH"
      },
      "execution_count": null,
      "outputs": []
    },
    {
      "cell_type": "markdown",
      "metadata": {
        "id": "rO_yixYs3ZlQ"
      },
      "source": [
        "**HMM**"
      ]
    },
    {
      "cell_type": "code",
      "execution_count": null,
      "metadata": {
        "id": "-EA_4Onr3Yzs"
      },
      "outputs": [],
      "source": [
        "# Import the toolkit and tags\n",
        "import nltk\n",
        "\n",
        "# Import HMM module\n",
        "from nltk.tag import hmm\n",
        "\n",
        "# Setup a trainer with default(None) values and train with the data\n",
        "tagger = nltk.HiddenMarkovModelTagger.train(train)\n",
        "# Prints the basic data about the tagger\n",
        "print(tagger)\n",
        "# accuracy on test subset of training data\n",
        "print(tagger.accuracy(test))"
      ]
    },
    {
      "cell_type": "code",
      "execution_count": null,
      "metadata": {
        "id": "gxq7t4mI9qyA"
      },
      "outputs": [],
      "source": [
        "print(tagger.accuracy(final_test))"
      ]
    }
  ],
  "metadata": {
    "accelerator": "TPU",
    "colab": {
      "collapsed_sections": [],
      "provenance": []
    },
    "kernelspec": {
      "display_name": "Python 3.10.7 64-bit",
      "language": "python",
      "name": "python3"
    },
    "language_info": {
      "name": "python",
      "version": "3.10.7"
    },
    "vscode": {
      "interpreter": {
        "hash": "aee8b7b246df8f9039afb4144a1f6fd8d2ca17a180786b69acc140d282b71a49"
      }
    }
  },
  "nbformat": 4,
  "nbformat_minor": 0
}