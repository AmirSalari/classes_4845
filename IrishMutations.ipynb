{
  "cells": [
    {
      "cell_type": "code",
      "execution_count": 1,
      "metadata": {
        "id": "_F41Ez3cO7xN"
      },
      "outputs": [],
      "source": [
        "from collections import defaultdict, Counter\n",
        "import numpy as np"
      ]
    },
    {
      "cell_type": "code",
      "source": [
        "fn = r\"train 2.tsv\"\n",
        "handle  = open(fn, \"r\")\n",
        "tokens = list()\n",
        "\n",
        "for line in handle:\n",
        "  entry = line.strip().split(\"\\t\")\n",
        "  tokens.append( ( entry[0], entry[1]) )"
      ],
      "metadata": {
        "id": "gecQSCrBPAXA"
      },
      "execution_count": 2,
      "outputs": []
    },
    {
      "cell_type": "code",
      "source": [
        "#frequencies of all the mutations\n",
        "frequency = Counter([t for (w,t) in tokens])\n",
        "frequency"
      ],
      "metadata": {
        "colab": {
          "base_uri": "https://localhost:8080/"
        },
        "id": "JEMYRlQ0QoYA",
        "outputId": "6e7b1ffb-e7f6-416e-9077-0b56b839b8b1"
      },
      "execution_count": 3,
      "outputs": [
        {
          "output_type": "execute_result",
          "data": {
            "text/plain": [
              "Counter({'N': 8584022, 'S': 973469, 'U': 327110, 'H': 80504, 'T': 34895})"
            ]
          },
          "metadata": {},
          "execution_count": 3
        }
      ]
    },
    {
      "cell_type": "code",
      "source": [
        "def flat2sent(sents, end = \"<S>\"):\n",
        "  list_of_sent = list()\n",
        "  sent = []\n",
        "  for char in sents:\n",
        "    sent.append(char)\n",
        "    if char[0] == end:\n",
        "      list_of_sent.append(sent)\n",
        "      sent = []\n",
        "  return list_of_sent\n"
      ],
      "metadata": {
        "id": "9z2j__fcWeVS"
      },
      "execution_count": 4,
      "outputs": []
    },
    {
      "cell_type": "code",
      "source": [
        "#train-split for sentences\n",
        "train_index = int([ind for (ind, token) in enumerate(tokens) if token[0] == \"<S>\"][-1]*0.8)\n",
        "sentTrain = flat2sent ( tokens[:train_index] )\n",
        "sentTest = flat2sent( tokens[train_index:] )"
      ],
      "metadata": {
        "id": "Yr5O3vVLRJz7"
      },
      "execution_count": 5,
      "outputs": []
    },
    {
      "cell_type": "code",
      "source": [
        "max(len( sent ) for sent in sentTrain)"
      ],
      "metadata": {
        "colab": {
          "base_uri": "https://localhost:8080/"
        },
        "id": "_ct8DcZ3R54o",
        "outputId": "2d368062-c473-4e7f-a984-ee919779adc5"
      },
      "execution_count": 6,
      "outputs": [
        {
          "output_type": "execute_result",
          "data": {
            "text/plain": [
              "147"
            ]
          },
          "metadata": {},
          "execution_count": 6
        }
      ]
    },
    {
      "cell_type": "code",
      "source": [
        "vocabs = set(piece[0] for piece in tokens[:train_index])\n",
        "word2index = {w:i for i,w in enumerate(vocabs)}\n",
        "mutate2index = {m:i for i,m in enumerate([\"N\",\"S\",\"U\",\"H\",\"T\"])}\n",
        "trainX = [[word2index[w[0]] for w in s] for s in sentTrain]\n",
        "#add padding here\n",
        "trainY = [[mutate2index[w[1]] for w in s] for s in sentTrain]"
      ],
      "metadata": {
        "id": "NKP5gtMBHnfK"
      },
      "execution_count": 19,
      "outputs": []
    },
    {
      "cell_type": "code",
      "source": [
        "from tensorflow.keras.models import Sequential\n",
        "from tensorflow.keras.layers import LSTM, Embedding, Dense, Dropout\n",
        "\n",
        "model = Sequential()\n",
        "model.add(Embedding(input_dim=len(vocabs), output_dim=32, input_length=50))\n",
        "model.add(LSTM(units=64, recurrent_dropout=0.1))\n",
        "model.add(Dense(5, activation=\"softmax\"))\n",
        "model.add(Dense(1, activation=\"softmax\"))\n",
        "model.compile(optimizer=\"adam\", loss=\"categorical_crossentropy\", metrics=[\"accuracy\"])\n",
        "print(model.summary())"
      ],
      "metadata": {
        "colab": {
          "base_uri": "https://localhost:8080/"
        },
        "id": "Z1ttudJcXZTF",
        "outputId": "24c64a21-e9a8-4506-da56-2ab0bcd23756"
      },
      "execution_count": 20,
      "outputs": [
        {
          "output_type": "stream",
          "name": "stderr",
          "text": [
            "WARNING:tensorflow:Layer lstm_3 will not use cuDNN kernels since it doesn't meet the criteria. It will use a generic GPU kernel as fallback when running on GPU.\n"
          ]
        },
        {
          "output_type": "stream",
          "name": "stdout",
          "text": [
            "Model: \"sequential_3\"\n",
            "_________________________________________________________________\n",
            " Layer (type)                Output Shape              Param #   \n",
            "=================================================================\n",
            " embedding_3 (Embedding)     (None, 50, 32)            4828960   \n",
            "                                                                 \n",
            " lstm_3 (LSTM)               (None, 64)                24832     \n",
            "                                                                 \n",
            " dense_4 (Dense)             (None, 5)                 325       \n",
            "                                                                 \n",
            " dense_5 (Dense)             (None, 1)                 6         \n",
            "                                                                 \n",
            "=================================================================\n",
            "Total params: 4,854,123\n",
            "Trainable params: 4,854,123\n",
            "Non-trainable params: 0\n",
            "_________________________________________________________________\n",
            "None\n"
          ]
        }
      ]
    },
    {
      "cell_type": "code",
      "source": [
        "#import numpy as np\n",
        "np.asarray(trainX, dtype=np.int32)\n",
        "#model.fit(trainX[0], trainY[0])\n",
        "#max(len(i) for i in trainX )\n",
        "#[print(i.shape, i.dtype) for i in model.inputs]"
      ],
      "metadata": {
        "colab": {
          "base_uri": "https://localhost:8080/",
          "height": 258
        },
        "id": "S4Zdpp1dSq_8",
        "outputId": "212ee6ff-d3dc-4d87-bf27-387855baab5d"
      },
      "execution_count": 36,
      "outputs": [
        {
          "output_type": "error",
          "ename": "ValueError",
          "evalue": "ignored",
          "traceback": [
            "\u001b[0;31m---------------------------------------------------------------------------\u001b[0m",
            "\u001b[0;31mValueError\u001b[0m                                Traceback (most recent call last)",
            "\u001b[0;32m<ipython-input-36-aa3a47e024f9>\u001b[0m in \u001b[0;36m<module>\u001b[0;34m\u001b[0m\n\u001b[1;32m      1\u001b[0m \u001b[0;31m#import numpy as np\u001b[0m\u001b[0;34m\u001b[0m\u001b[0;34m\u001b[0m\u001b[0;34m\u001b[0m\u001b[0m\n\u001b[0;32m----> 2\u001b[0;31m \u001b[0mnp\u001b[0m\u001b[0;34m.\u001b[0m\u001b[0masarray\u001b[0m\u001b[0;34m(\u001b[0m\u001b[0mtrainX\u001b[0m\u001b[0;34m,\u001b[0m \u001b[0mdtype\u001b[0m\u001b[0;34m=\u001b[0m\u001b[0mnp\u001b[0m\u001b[0;34m.\u001b[0m\u001b[0mint32\u001b[0m\u001b[0;34m)\u001b[0m\u001b[0;34m\u001b[0m\u001b[0;34m\u001b[0m\u001b[0m\n\u001b[0m\u001b[1;32m      3\u001b[0m \u001b[0;31m#model.fit(trainX[0], trainY[0])\u001b[0m\u001b[0;34m\u001b[0m\u001b[0;34m\u001b[0m\u001b[0;34m\u001b[0m\u001b[0m\n\u001b[1;32m      4\u001b[0m \u001b[0;31m#max(len(i) for i in trainX )\u001b[0m\u001b[0;34m\u001b[0m\u001b[0;34m\u001b[0m\u001b[0;34m\u001b[0m\u001b[0m\n\u001b[1;32m      5\u001b[0m \u001b[0;31m#[print(i.shape, i.dtype) for i in model.inputs]\u001b[0m\u001b[0;34m\u001b[0m\u001b[0;34m\u001b[0m\u001b[0;34m\u001b[0m\u001b[0m\n",
            "\u001b[0;31mValueError\u001b[0m: setting an array element with a sequence. The requested array has an inhomogeneous shape after 1 dimensions. The detected shape was (316834,) + inhomogeneous part."
          ]
        }
      ]
    },
    {
      "cell_type": "code",
      "execution_count": null,
      "metadata": {
        "id": "HCft_nGAO7xO"
      },
      "outputs": [],
      "source": [
        "# argument sent is a list of [token,label] pairs; return number of correctly predicted labels\n",
        "def predict_from_scratch(sent, model=None):\n",
        "  correct = 0\n",
        "  for token in sent:\n",
        "    guess = random.choice(['S','U','T','H','N'])\n",
        "    if guess == token[1]:\n",
        "      correct += 1\n",
        "  return correct"
      ]
    },
    {
      "cell_type": "code",
      "execution_count": null,
      "metadata": {
        "id": "30j88uv7O7xP"
      },
      "outputs": [],
      "source": [
        "# argument sent is a list of [token,label] pairs; return number of correctly predicted labels\n",
        "def predict_anything_goes(sent):\n",
        "  correct = 0\n",
        "  for token in sent:\n",
        "    guess = 'N'\n",
        "    if guess == token[1]:\n",
        "      correct += 1\n",
        "  return correct"
      ]
    },
    {
      "cell_type": "code",
      "execution_count": null,
      "metadata": {
        "id": "y7iSShNrO7xQ"
      },
      "outputs": [],
      "source": [
        "#sentence is a list of tuples(x,y)\n",
        "def evaluate():\n",
        "  total = 0\n",
        "  correct_from_scratch = 0\n",
        "  correct_anything_goes = 0\n",
        "  testfile = open('test.tsv', 'r')\n",
        "  sentence = []\n",
        "  for line in testfile:\n",
        "    total += 1\n",
        "    pieces = line.rstrip(\"\\n\").split(\"\\t\")\n",
        "    if pieces[0]=='<S>':\n",
        "      correct_from_scratch += predict_from_scratch(sentence)\n",
        "      correct_anything_goes += predict_anything_goes(sentence)\n",
        "      sentence = []\n",
        "    else:\n",
        "      sentence.append(pieces)\n",
        "  correct_from_scratch += predict_from_scratch(sentence)\n",
        "  correct_anything_goes += predict_anything_goes(sentence)\n",
        "  return (correct_from_scratch/total, correct_anything_goes/total)"
      ]
    },
    {
      "cell_type": "code",
      "execution_count": null,
      "metadata": {
        "id": "uDQEerHcO7xR",
        "outputId": "2c0ca723-cc29-42cc-fb54-4d190d3d354d"
      },
      "outputs": [
        {
          "data": {
            "text/plain": [
              "(0.191809, 0.819613)"
            ]
          },
          "execution_count": 5,
          "metadata": {},
          "output_type": "execute_result"
        }
      ],
      "source": [
        "evaluate()"
      ]
    }
  ],
  "metadata": {
    "kernelspec": {
      "display_name": "Python 3",
      "language": "python",
      "name": "python3"
    },
    "language_info": {
      "codemirror_mode": {
        "name": "ipython",
        "version": 3
      },
      "file_extension": ".py",
      "mimetype": "text/x-python",
      "name": "python",
      "nbconvert_exporter": "python",
      "pygments_lexer": "ipython3",
      "version": "3.6.8"
    },
    "colab": {
      "provenance": [],
      "collapsed_sections": []
    },
    "accelerator": "GPU"
  },
  "nbformat": 4,
  "nbformat_minor": 0
}